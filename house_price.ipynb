{
 "cells": [
  {
   "cell_type": "code",
   "execution_count": 1,
   "metadata": {},
   "outputs": [],
   "source": [
    "import numpy as np\n",
    "import matplotlib.pyplot as plt\n",
    "import pandas as pd\n",
    "\n",
    "from numba import jit,f8,prange,i8\n",
    "\n",
    "from sklearn.linear_model import Lasso,ElasticNet\n",
    "from sklearn.model_selection import GridSearchCV\n",
    "from sklearn.model_selection import KFold\n",
    "from sklearn.base import BaseEstimator, RegressorMixin\n",
    "from sklearn.preprocessing import StandardScaler\n",
    "from sklearn.preprocessing import OneHotEncoder\n",
    "\n",
    "\n",
    "%matplotlib inline"
   ]
  },
  {
   "cell_type": "code",
   "execution_count": 2,
   "metadata": {},
   "outputs": [],
   "source": [
    "train = pd.read_csv('data/train.csv')\n",
    "test = pd.read_csv('data/test.csv')"
   ]
  },
  {
   "cell_type": "code",
   "execution_count": null,
   "metadata": {},
   "outputs": [],
   "source": []
  },
  {
   "cell_type": "code",
   "execution_count": null,
   "metadata": {},
   "outputs": [],
   "source": []
  },
  {
   "cell_type": "markdown",
   "metadata": {},
   "source": [
    "log(価格)が正規分布じゃあないのが効いてるのでは？？という観点にしか今回は興味がないので、  \n",
    "説明変数は数値ならintだろうがfloatだろうが標準化、カテゴリ変数はOne-Hot Encodingしたのち標準化という感じの雑前処理で比較していく"
   ]
  },
  {
   "cell_type": "code",
   "execution_count": 3,
   "metadata": {},
   "outputs": [],
   "source": [
    "y_raw = train['SalePrice']\n",
    "train = train.set_index('Id').drop('SalePrice',axis=1)\n",
    "test = test.set_index('Id')\n",
    "M = len(y_raw)"
   ]
  },
  {
   "cell_type": "code",
   "execution_count": 4,
   "metadata": {},
   "outputs": [],
   "source": [
    "\n",
    "obj_obj = train.dtypes[train.dtypes == object]"
   ]
  },
  {
   "cell_type": "code",
   "execution_count": 5,
   "metadata": {},
   "outputs": [],
   "source": [
    "\n",
    "columns_obj =  obj_obj.to_dict().keys()"
   ]
  },
  {
   "cell_type": "code",
   "execution_count": 6,
   "metadata": {},
   "outputs": [],
   "source": [
    "train_dropped = train.drop(columns_obj,axis=1)\n",
    "train_dropped = train_dropped.fillna(train_dropped.median())\n",
    "test_dropped = test.drop(columns_obj,axis=1)\n",
    "test_dropped = test_dropped.fillna(test_dropped.median())"
   ]
  },
  {
   "cell_type": "code",
   "execution_count": null,
   "metadata": {},
   "outputs": [],
   "source": []
  },
  {
   "cell_type": "code",
   "execution_count": null,
   "metadata": {},
   "outputs": [],
   "source": []
  },
  {
   "cell_type": "code",
   "execution_count": 7,
   "metadata": {},
   "outputs": [],
   "source": [
    "ohe = OneHotEncoder(handle_unknown='ignore',sparse=False)\n",
    "ohe.fit(train[columns_obj])\n",
    "X_train_cat = ohe.transform(train[columns_obj])\n",
    "X_test_cat = ohe.transform(test[columns_obj])"
   ]
  },
  {
   "cell_type": "code",
   "execution_count": 8,
   "metadata": {},
   "outputs": [],
   "source": [
    "X_train = np.c_[train_dropped.values,X_train_cat]\n",
    "X_test = np.c_[test_dropped.values,X_test_cat]"
   ]
  },
  {
   "cell_type": "code",
   "execution_count": 9,
   "metadata": {},
   "outputs": [],
   "source": [
    "scaler = StandardScaler()"
   ]
  },
  {
   "cell_type": "code",
   "execution_count": 10,
   "metadata": {},
   "outputs": [],
   "source": [
    "scaler.fit(X_train)\n",
    "X_train = scaler.transform(X_train)\n",
    "X_test = scaler.transform(X_test)"
   ]
  },
  {
   "cell_type": "code",
   "execution_count": 11,
   "metadata": {},
   "outputs": [],
   "source": [
    "N = X_train[0].size"
   ]
  },
  {
   "cell_type": "code",
   "execution_count": 12,
   "metadata": {},
   "outputs": [
    {
     "data": {
      "text/plain": [
       "304"
      ]
     },
     "execution_count": 12,
     "metadata": {},
     "output_type": "execute_result"
    }
   ],
   "source": [
    "X_test[0].size"
   ]
  },
  {
   "cell_type": "code",
   "execution_count": 13,
   "metadata": {},
   "outputs": [],
   "source": [
    "y_train = np.log(y_raw.values)\n",
    "y_mean = y_train.mean()\n",
    "y_train = y_train - y_mean"
   ]
  },
  {
   "cell_type": "code",
   "execution_count": null,
   "metadata": {},
   "outputs": [],
   "source": []
  },
  {
   "cell_type": "code",
   "execution_count": 14,
   "metadata": {},
   "outputs": [],
   "source": [
    "N_grid_search = 10\n",
    "alpha_array = np.logspace(-3,-1,N_grid_search)\n",
    "l1_ratio_array = np.linspace(1e-2,0.99,N_grid_search)"
   ]
  },
  {
   "cell_type": "code",
   "execution_count": 15,
   "metadata": {},
   "outputs": [],
   "source": [
    "kf = KFold(10,shuffle=True,random_state=42)"
   ]
  },
  {
   "cell_type": "code",
   "execution_count": null,
   "metadata": {},
   "outputs": [],
   "source": []
  },
  {
   "cell_type": "code",
   "execution_count": null,
   "metadata": {},
   "outputs": [],
   "source": []
  },
  {
   "cell_type": "markdown",
   "metadata": {},
   "source": [
    "比較のために二乗損失の場合を見る。マルチコがあるからとりあえずElasticNetでやってみる。  \n",
    "評価はMAE、損失関数と違うもので評価してパラメータを採用するのは嫌なんだけども(何やってるのかよくわからなくなるので)、本命と比較するため。  \n",
    "※追記\n",
    "よくよく考えればMAEとMSEの両方をみてrefitとMSEにすればよかった"
   ]
  },
  {
   "cell_type": "code",
   "execution_count": 16,
   "metadata": {},
   "outputs": [
    {
     "data": {
      "text/plain": [
       "GridSearchCV(cv=KFold(n_splits=10, random_state=42, shuffle=True),\n",
       "             estimator=ElasticNet(fit_intercept=False, warm_start=True),\n",
       "             n_jobs=-1,\n",
       "             param_grid={'alpha': array([0.001     , 0.0016681 , 0.00278256, 0.00464159, 0.00774264,\n",
       "       0.0129155 , 0.02154435, 0.03593814, 0.05994843, 0.1       ]),\n",
       "                         'l1_ratio': array([0.01      , 0.11888889, 0.22777778, 0.33666667, 0.44555556,\n",
       "       0.55444444, 0.66333333, 0.77222222, 0.88111111, 0.99      ])},\n",
       "             scoring='neg_mean_absolute_error')"
      ]
     },
     "execution_count": 16,
     "metadata": {},
     "output_type": "execute_result"
    }
   ],
   "source": [
    "en = ElasticNet(warm_start=True,fit_intercept=False)\n",
    "parameters = {'alpha':alpha_array, 'l1_ratio':l1_ratio_array}\n",
    "clf = GridSearchCV(en, parameters,cv=kf,scoring='neg_mean_absolute_error',n_jobs=-1)\n",
    "clf.fit(X_train,y_train)"
   ]
  },
  {
   "cell_type": "code",
   "execution_count": null,
   "metadata": {},
   "outputs": [],
   "source": []
  },
  {
   "cell_type": "code",
   "execution_count": 17,
   "metadata": {},
   "outputs": [
    {
     "data": {
      "text/html": [
       "<div>\n",
       "<style scoped>\n",
       "    .dataframe tbody tr th:only-of-type {\n",
       "        vertical-align: middle;\n",
       "    }\n",
       "\n",
       "    .dataframe tbody tr th {\n",
       "        vertical-align: top;\n",
       "    }\n",
       "\n",
       "    .dataframe thead th {\n",
       "        text-align: right;\n",
       "    }\n",
       "</style>\n",
       "<table border=\"1\" class=\"dataframe\">\n",
       "  <thead>\n",
       "    <tr style=\"text-align: right;\">\n",
       "      <th></th>\n",
       "      <th>mean_fit_time</th>\n",
       "      <th>std_fit_time</th>\n",
       "      <th>mean_score_time</th>\n",
       "      <th>std_score_time</th>\n",
       "      <th>param_alpha</th>\n",
       "      <th>param_l1_ratio</th>\n",
       "      <th>params</th>\n",
       "      <th>split0_test_score</th>\n",
       "      <th>split1_test_score</th>\n",
       "      <th>split2_test_score</th>\n",
       "      <th>split3_test_score</th>\n",
       "      <th>split4_test_score</th>\n",
       "      <th>split5_test_score</th>\n",
       "      <th>split6_test_score</th>\n",
       "      <th>split7_test_score</th>\n",
       "      <th>split8_test_score</th>\n",
       "      <th>split9_test_score</th>\n",
       "      <th>mean_test_score</th>\n",
       "      <th>std_test_score</th>\n",
       "      <th>rank_test_score</th>\n",
       "    </tr>\n",
       "  </thead>\n",
       "  <tbody>\n",
       "    <tr>\n",
       "      <td>36</td>\n",
       "      <td>0.083502</td>\n",
       "      <td>0.014223</td>\n",
       "      <td>0.001331</td>\n",
       "      <td>0.000612</td>\n",
       "      <td>0.00464159</td>\n",
       "      <td>0.663333</td>\n",
       "      <td>{'alpha': 0.004641588833612777, 'l1_ratio': 0....</td>\n",
       "      <td>-0.075418</td>\n",
       "      <td>-0.090913</td>\n",
       "      <td>-0.072304</td>\n",
       "      <td>-0.081976</td>\n",
       "      <td>-0.086316</td>\n",
       "      <td>-0.101202</td>\n",
       "      <td>-0.090662</td>\n",
       "      <td>-0.073466</td>\n",
       "      <td>-0.078855</td>\n",
       "      <td>-0.064833</td>\n",
       "      <td>-0.081594</td>\n",
       "      <td>0.010271</td>\n",
       "      <td>1</td>\n",
       "    </tr>\n",
       "  </tbody>\n",
       "</table>\n",
       "</div>"
      ],
      "text/plain": [
       "    mean_fit_time  std_fit_time  mean_score_time  std_score_time param_alpha  \\\n",
       "36       0.083502      0.014223         0.001331        0.000612  0.00464159   \n",
       "\n",
       "   param_l1_ratio                                             params  \\\n",
       "36       0.663333  {'alpha': 0.004641588833612777, 'l1_ratio': 0....   \n",
       "\n",
       "    split0_test_score  split1_test_score  split2_test_score  \\\n",
       "36          -0.075418          -0.090913          -0.072304   \n",
       "\n",
       "    split3_test_score  split4_test_score  split5_test_score  \\\n",
       "36          -0.081976          -0.086316          -0.101202   \n",
       "\n",
       "    split6_test_score  split7_test_score  split8_test_score  \\\n",
       "36          -0.090662          -0.073466          -0.078855   \n",
       "\n",
       "    split9_test_score  mean_test_score  std_test_score  rank_test_score  \n",
       "36          -0.064833        -0.081594        0.010271                1  "
      ]
     },
     "execution_count": 17,
     "metadata": {},
     "output_type": "execute_result"
    }
   ],
   "source": [
    "df_result = pd.DataFrame.from_dict(clf.cv_results_)\n",
    "df_result[df_result['mean_test_score']==df_result['mean_test_score'].max()]"
   ]
  },
  {
   "cell_type": "code",
   "execution_count": 18,
   "metadata": {},
   "outputs": [],
   "source": [
    "best_en = clf.best_estimator_"
   ]
  },
  {
   "cell_type": "code",
   "execution_count": 19,
   "metadata": {},
   "outputs": [
    {
     "data": {
      "text/plain": [
       "[<matplotlib.lines.Line2D at 0x12f1a8490>]"
      ]
     },
     "execution_count": 19,
     "metadata": {},
     "output_type": "execute_result"
    },
    {
     "data": {
      "image/png": "[encoded data removed]",
      "text/plain": [
       "<Figure size 432x288 with 1 Axes>"
      ]
     },
     "metadata": {
      "needs_background": "light"
     },
     "output_type": "display_data"
    }
   ],
   "source": [
    "plt.plot(best_en.predict(X_train),y_train,\"o\")"
   ]
  },
  {
   "cell_type": "code",
   "execution_count": 20,
   "metadata": {},
   "outputs": [],
   "source": [
    "y_pred_en = np.exp(best_en.predict(X_test)+y_mean)"
   ]
  },
  {
   "cell_type": "code",
   "execution_count": null,
   "metadata": {},
   "outputs": [],
   "source": []
  },
  {
   "cell_type": "code",
   "execution_count": null,
   "metadata": {},
   "outputs": [],
   "source": []
  },
  {
   "cell_type": "code",
   "execution_count": 21,
   "metadata": {},
   "outputs": [],
   "source": [
    "# データの整形\n",
    "submitPre = pd.DataFrame({\n",
    "                        'Id':list(test.index),\n",
    "                        'SalePrice':y_pred_en\n",
    "                        })\n",
    "# CSV出力\n",
    "submitPre.to_csv(\"sub_en.csv\",index=False)"
   ]
  },
  {
   "cell_type": "code",
   "execution_count": null,
   "metadata": {},
   "outputs": [],
   "source": []
  },
  {
   "cell_type": "code",
   "execution_count": null,
   "metadata": {},
   "outputs": [],
   "source": []
  },
  {
   "cell_type": "markdown",
   "metadata": {},
   "source": [
    "よくよく考えれば訓練とテストの分布が同じだと思っているわけで、そうするとマルチコは予測には関係ないのでLassoでええやんとなった。"
   ]
  },
  {
   "cell_type": "code",
   "execution_count": 22,
   "metadata": {},
   "outputs": [
    {
     "data": {
      "text/plain": [
       "GridSearchCV(cv=KFold(n_splits=10, random_state=42, shuffle=True),\n",
       "             estimator=Lasso(fit_intercept=False, warm_start=True), n_jobs=-1,\n",
       "             param_grid={'alpha': array([0.001     , 0.0016681 , 0.00278256, 0.00464159, 0.00774264,\n",
       "       0.0129155 , 0.02154435, 0.03593814, 0.05994843, 0.1       ])},\n",
       "             scoring='neg_mean_absolute_error')"
      ]
     },
     "execution_count": 22,
     "metadata": {},
     "output_type": "execute_result"
    }
   ],
   "source": [
    "lasso = Lasso(warm_start=True,fit_intercept=False)\n",
    "parameters = {'alpha':alpha_array}\n",
    "clf = GridSearchCV(lasso, parameters,cv=kf,scoring='neg_mean_absolute_error',n_jobs=-1)\n",
    "clf.fit(X_train,y_train)"
   ]
  },
  {
   "cell_type": "code",
   "execution_count": 23,
   "metadata": {},
   "outputs": [
    {
     "data": {
      "text/html": [
       "<div>\n",
       "<style scoped>\n",
       "    .dataframe tbody tr th:only-of-type {\n",
       "        vertical-align: middle;\n",
       "    }\n",
       "\n",
       "    .dataframe tbody tr th {\n",
       "        vertical-align: top;\n",
       "    }\n",
       "\n",
       "    .dataframe thead th {\n",
       "        text-align: right;\n",
       "    }\n",
       "</style>\n",
       "<table border=\"1\" class=\"dataframe\">\n",
       "  <thead>\n",
       "    <tr style=\"text-align: right;\">\n",
       "      <th></th>\n",
       "      <th>mean_fit_time</th>\n",
       "      <th>std_fit_time</th>\n",
       "      <th>mean_score_time</th>\n",
       "      <th>std_score_time</th>\n",
       "      <th>param_alpha</th>\n",
       "      <th>params</th>\n",
       "      <th>split0_test_score</th>\n",
       "      <th>split1_test_score</th>\n",
       "      <th>split2_test_score</th>\n",
       "      <th>split3_test_score</th>\n",
       "      <th>split4_test_score</th>\n",
       "      <th>split5_test_score</th>\n",
       "      <th>split6_test_score</th>\n",
       "      <th>split7_test_score</th>\n",
       "      <th>split8_test_score</th>\n",
       "      <th>split9_test_score</th>\n",
       "      <th>mean_test_score</th>\n",
       "      <th>std_test_score</th>\n",
       "      <th>rank_test_score</th>\n",
       "    </tr>\n",
       "  </thead>\n",
       "  <tbody>\n",
       "    <tr>\n",
       "      <td>2</td>\n",
       "      <td>0.053359</td>\n",
       "      <td>0.006244</td>\n",
       "      <td>0.001965</td>\n",
       "      <td>0.002216</td>\n",
       "      <td>0.00278256</td>\n",
       "      <td>{'alpha': 0.0027825594022071257}</td>\n",
       "      <td>-0.075533</td>\n",
       "      <td>-0.090683</td>\n",
       "      <td>-0.072302</td>\n",
       "      <td>-0.081519</td>\n",
       "      <td>-0.086472</td>\n",
       "      <td>-0.101106</td>\n",
       "      <td>-0.09092</td>\n",
       "      <td>-0.073768</td>\n",
       "      <td>-0.078897</td>\n",
       "      <td>-0.064814</td>\n",
       "      <td>-0.081601</td>\n",
       "      <td>0.010234</td>\n",
       "      <td>1</td>\n",
       "    </tr>\n",
       "  </tbody>\n",
       "</table>\n",
       "</div>"
      ],
      "text/plain": [
       "   mean_fit_time  std_fit_time  mean_score_time  std_score_time param_alpha  \\\n",
       "2       0.053359      0.006244         0.001965        0.002216  0.00278256   \n",
       "\n",
       "                             params  split0_test_score  split1_test_score  \\\n",
       "2  {'alpha': 0.0027825594022071257}          -0.075533          -0.090683   \n",
       "\n",
       "   split2_test_score  split3_test_score  split4_test_score  split5_test_score  \\\n",
       "2          -0.072302          -0.081519          -0.086472          -0.101106   \n",
       "\n",
       "   split6_test_score  split7_test_score  split8_test_score  split9_test_score  \\\n",
       "2           -0.09092          -0.073768          -0.078897          -0.064814   \n",
       "\n",
       "   mean_test_score  std_test_score  rank_test_score  \n",
       "2        -0.081601        0.010234                1  "
      ]
     },
     "execution_count": 23,
     "metadata": {},
     "output_type": "execute_result"
    }
   ],
   "source": [
    "df_result = pd.DataFrame.from_dict(clf.cv_results_)\n",
    "df_result[df_result['mean_test_score']==df_result['mean_test_score'].max()]"
   ]
  },
  {
   "cell_type": "code",
   "execution_count": 24,
   "metadata": {},
   "outputs": [],
   "source": [
    "best_lasso = clf.best_estimator_"
   ]
  },
  {
   "cell_type": "code",
   "execution_count": 25,
   "metadata": {},
   "outputs": [
    {
     "data": {
      "text/plain": [
       "[<matplotlib.lines.Line2D at 0x12f241fd0>]"
      ]
     },
     "execution_count": 25,
     "metadata": {},
     "output_type": "execute_result"
    },
    {
     "data": {
      "image/png": "[encoded data removed]",
      "text/plain": [
       "<Figure size 432x288 with 1 Axes>"
      ]
     },
     "metadata": {
      "needs_background": "light"
     },
     "output_type": "display_data"
    }
   ],
   "source": [
    "plt.plot(best_lasso.coef_,best_en.coef_,\"o\")"
   ]
  },
  {
   "cell_type": "code",
   "execution_count": 26,
   "metadata": {},
   "outputs": [],
   "source": [
    "y_pred_lasso = np.exp(best_lasso.predict(X_test)+y_mean)"
   ]
  },
  {
   "cell_type": "code",
   "execution_count": 27,
   "metadata": {},
   "outputs": [],
   "source": [
    "# データの整形\n",
    "submitPre = pd.DataFrame({\n",
    "                        'Id':list(test.index),\n",
    "                        'SalePrice':y_pred_lasso\n",
    "                        })\n",
    "# CSV出力\n",
    "submitPre.to_csv(\"sub_lasso.csv\",index=False)"
   ]
  },
  {
   "cell_type": "code",
   "execution_count": null,
   "metadata": {},
   "outputs": [],
   "source": []
  },
  {
   "cell_type": "code",
   "execution_count": null,
   "metadata": {},
   "outputs": [],
   "source": []
  },
  {
   "cell_type": "code",
   "execution_count": null,
   "metadata": {},
   "outputs": [],
   "source": []
  },
  {
   "cell_type": "markdown",
   "metadata": {},
   "source": [
    "ElasticNet:MAE -0.081594　±　0.010271  \n",
    "Lasso:MAE -0.081601　±　0.010234  \n",
    "やはりほぼ変わらない。"
   ]
  },
  {
   "cell_type": "markdown",
   "metadata": {},
   "source": [
    "固有値を見てみる。"
   ]
  },
  {
   "cell_type": "code",
   "execution_count": 28,
   "metadata": {},
   "outputs": [
    {
     "data": {
      "text/plain": [
       "[<matplotlib.lines.Line2D at 0x12f1d6810>]"
      ]
     },
     "execution_count": 28,
     "metadata": {},
     "output_type": "execute_result"
    },
    {
     "data": {
      "image/png": "[encoded data removed]",
      "text/plain": [
       "<Figure size 432x288 with 1 Axes>"
      ]
     },
     "metadata": {
      "needs_background": "light"
     },
     "output_type": "display_data"
    }
   ],
   "source": [
    "plt.semilogy(np.linalg.eigvalsh(X_train.T@X_train))\n",
    "plt.semilogy(np.linalg.eigvalsh(X_test.T@X_test))"
   ]
  },
  {
   "cell_type": "code",
   "execution_count": null,
   "metadata": {},
   "outputs": [],
   "source": []
  },
  {
   "cell_type": "code",
   "execution_count": null,
   "metadata": {},
   "outputs": [],
   "source": []
  },
  {
   "cell_type": "markdown",
   "metadata": {},
   "source": [
    "楽なのでまずLeast absolute deviations(LAD)+L1正則化    "
   ]
  },
  {
   "cell_type": "code",
   "execution_count": 29,
   "metadata": {},
   "outputs": [],
   "source": [
    "@jit('f8[:](f8[:],f8)',nopython=True)\n",
    "def soft_thresholding(x,l):\n",
    "    return np.sign(x)*np.maximum(np.abs(x)-l,0)"
   ]
  },
  {
   "cell_type": "code",
   "execution_count": 215,
   "metadata": {},
   "outputs": [],
   "source": []
  },
  {
   "cell_type": "code",
   "execution_count": 30,
   "metadata": {},
   "outputs": [],
   "source": [
    "@jit('f8[:](f8[:,:],f8[:],f8,f8,f8,i8,f8)',nopython=True,fastmath=True)\n",
    "def lad_l1_admm(X,y,lam,rho1,rho2,max_iter,tol):\n",
    "    N = X[0].size\n",
    "    M = y.size\n",
    "    I_M = np.eye(M)\n",
    "    I_N = np.eye(N)\n",
    "    \n",
    "    ## \\beta - w = 0\n",
    "    beta = np.zeros(N)\n",
    "    w = np.zeros(N)\n",
    "    v = np.zeros(N)\n",
    "    \n",
    "    ## X\\beta-y=z\n",
    "    z = np.zeros(M)\n",
    "    u = np.zeros(M)\n",
    "    \n",
    "    \n",
    "    X = np.asfortranarray(X)\n",
    "    y = np.asfortranarray(y)\n",
    "    XTX_inv = np.linalg.inv(np.dot(X.T,X)+rho1/rho2*I_N)\n",
    "    for i in range(max_iter):\n",
    "        beta= XTX_inv.dot(X.T.dot(y+z-u)+rho1/rho2*(w-v))\n",
    "        \n",
    "        w_prev = w.copy()\n",
    "        w = soft_thresholding(beta+v,lam/rho2)\n",
    "        v = v + beta - w\n",
    "        \n",
    "        z = soft_thresholding(X.dot(beta)-y+u,1/rho1)\n",
    "        u = u + X.dot(beta)- z -y\n",
    " \n",
    "        if np.sum(np.abs(w_prev-w))<tol:\n",
    "            return w\n",
    "    return w"
   ]
  },
  {
   "cell_type": "code",
   "execution_count": 31,
   "metadata": {},
   "outputs": [],
   "source": [
    "class LadL1ADMM(BaseEstimator, RegressorMixin):\n",
    "    def __init__(self,lam=0.01,rho1=1.,rho2=1.,max_iter=100,tol=1e-3):\n",
    "        self.lam = lam\n",
    "        self.rho1 = rho1\n",
    "        self.rho2 = rho2\n",
    "        self.max_iter = max_iter\n",
    "        self.tol = tol\n",
    "        \n",
    "    def fit(self,X,y):\n",
    "        self.coef_ = lad_l1_admm(X,y,self.lam,self.rho1,self.rho2,self.max_iter,self.tol)\n",
    "        return self\n",
    "        \n",
    "    def predict(self,X):\n",
    "        return X.dot(self.coef_)  "
   ]
  },
  {
   "cell_type": "markdown",
   "metadata": {},
   "source": [
    "適当なパラメータで試してみる."
   ]
  },
  {
   "cell_type": "code",
   "execution_count": 32,
   "metadata": {},
   "outputs": [],
   "source": [
    "ladl1 = LadL1ADMM(lam=0.06)\n",
    "ladl1.fit(X_train,y_train)"
   ]
  },
  {
   "cell_type": "code",
   "execution_count": null,
   "metadata": {},
   "outputs": [],
   "source": []
  },
  {
   "cell_type": "code",
   "execution_count": 34,
   "metadata": {},
   "outputs": [
    {
     "data": {
      "text/plain": [
       "[<matplotlib.lines.Line2D at 0x1324d2c90>]"
      ]
     },
     "execution_count": 34,
     "metadata": {},
     "output_type": "execute_result"
    },
    {
     "data": {
      "image/png": "[encoded data removed]",
      "text/plain": [
       "<Figure size 432x288 with 1 Axes>"
      ]
     },
     "metadata": {
      "needs_background": "light"
     },
     "output_type": "display_data"
    }
   ],
   "source": [
    "plt.plot(ladl1.coef_,best_lasso.coef_,\"o\")"
   ]
  },
  {
   "cell_type": "code",
   "execution_count": 35,
   "metadata": {},
   "outputs": [
    {
     "data": {
      "text/plain": [
       "[<matplotlib.lines.Line2D at 0x132d23f90>]"
      ]
     },
     "execution_count": 35,
     "metadata": {},
     "output_type": "execute_result"
    },
    {
     "data": {
      "image/png": "[encoded data removed]",
      "text/plain": [
       "<Figure size 432x288 with 1 Axes>"
      ]
     },
     "metadata": {
      "needs_background": "light"
     },
     "output_type": "display_data"
    }
   ],
   "source": [
    "plt.plot(ladl1.coef_)"
   ]
  },
  {
   "cell_type": "code",
   "execution_count": null,
   "metadata": {},
   "outputs": [],
   "source": []
  },
  {
   "cell_type": "code",
   "execution_count": 36,
   "metadata": {},
   "outputs": [
    {
     "data": {
      "text/plain": [
       "0.06123431952355995"
      ]
     },
     "execution_count": 36,
     "metadata": {},
     "output_type": "execute_result"
    }
   ],
   "source": [
    "np.abs(y_train-X_train@ladl1.coef_).sum()/M"
   ]
  },
  {
   "cell_type": "code",
   "execution_count": 37,
   "metadata": {},
   "outputs": [
    {
     "data": {
      "text/plain": [
       "0.0706301867785588"
      ]
     },
     "execution_count": 37,
     "metadata": {},
     "output_type": "execute_result"
    }
   ],
   "source": [
    "np.abs(y_train-X_train@best_en.coef_).sum()/M"
   ]
  },
  {
   "cell_type": "code",
   "execution_count": null,
   "metadata": {},
   "outputs": [],
   "source": []
  },
  {
   "cell_type": "code",
   "execution_count": null,
   "metadata": {},
   "outputs": [],
   "source": []
  },
  {
   "cell_type": "markdown",
   "metadata": {},
   "source": [
    "lam(Lassoだとalpha)はちょっと適当なパラメータで何度か動かしたときに比較的小さい値でも全0を返したのでちょっと探索範囲を狭めている。  \n",
    "ちょっとズルい。"
   ]
  },
  {
   "cell_type": "code",
   "execution_count": 71,
   "metadata": {},
   "outputs": [],
   "source": [
    "lam_array = np.logspace(-3,-0.8,N_grid_search)\n",
    "rho1_array = np.logspace(-3,2,N_grid_search)\n",
    "rho2_array = np.logspace(-3,2,N_grid_search)"
   ]
  },
  {
   "cell_type": "code",
   "execution_count": null,
   "metadata": {},
   "outputs": [],
   "source": []
  },
  {
   "cell_type": "code",
   "execution_count": 72,
   "metadata": {},
   "outputs": [
    {
     "data": {
      "text/plain": [
       "GridSearchCV(cv=KFold(n_splits=10, random_state=42, shuffle=True),\n",
       "             estimator=LadL1ADMM(), n_jobs=-1,\n",
       "             param_grid={'lam': array([0.001     , 0.00175568, 0.0030824 , 0.0054117 , 0.00950119,\n",
       "       0.01668101, 0.02928645, 0.05141752, 0.09027252, 0.15848932]),\n",
       "                         'rho1': array([1.00000000e-03, 3.59381366e-03, 1.29154967e-02, 4.64158883e-02,\n",
       "       1.66810054e-01, 5.99484250e-01, 2.15443469e+00, 7.74263683e+00,\n",
       "       2.78255940e+01, 1.00000000e+02]),\n",
       "                         'rho2': array([1.00000000e-03, 3.59381366e-03, 1.29154967e-02, 4.64158883e-02,\n",
       "       1.66810054e-01, 5.99484250e-01, 2.15443469e+00, 7.74263683e+00,\n",
       "       2.78255940e+01, 1.00000000e+02])},\n",
       "             scoring='neg_mean_absolute_error')"
      ]
     },
     "execution_count": 72,
     "metadata": {},
     "output_type": "execute_result"
    }
   ],
   "source": [
    "ladl1 = LadL1ADMM(max_iter=100)\n",
    "parameters = {'lam':lam_array,'rho1':rho1_array,'rho2':rho2_array}\n",
    "clf = GridSearchCV(ladl1, parameters,cv=kf,scoring='neg_mean_absolute_error',n_jobs=-1)\n",
    "clf.fit(X_train,y_train)"
   ]
  },
  {
   "cell_type": "code",
   "execution_count": null,
   "metadata": {},
   "outputs": [],
   "source": []
  },
  {
   "cell_type": "code",
   "execution_count": 73,
   "metadata": {},
   "outputs": [
    {
     "data": {
      "text/html": [
       "<div>\n",
       "<style scoped>\n",
       "    .dataframe tbody tr th:only-of-type {\n",
       "        vertical-align: middle;\n",
       "    }\n",
       "\n",
       "    .dataframe tbody tr th {\n",
       "        vertical-align: top;\n",
       "    }\n",
       "\n",
       "    .dataframe thead th {\n",
       "        text-align: right;\n",
       "    }\n",
       "</style>\n",
       "<table border=\"1\" class=\"dataframe\">\n",
       "  <thead>\n",
       "    <tr style=\"text-align: right;\">\n",
       "      <th></th>\n",
       "      <th>mean_fit_time</th>\n",
       "      <th>std_fit_time</th>\n",
       "      <th>mean_score_time</th>\n",
       "      <th>std_score_time</th>\n",
       "      <th>param_lam</th>\n",
       "      <th>param_rho1</th>\n",
       "      <th>param_rho2</th>\n",
       "      <th>params</th>\n",
       "      <th>split0_test_score</th>\n",
       "      <th>split1_test_score</th>\n",
       "      <th>...</th>\n",
       "      <th>split3_test_score</th>\n",
       "      <th>split4_test_score</th>\n",
       "      <th>split5_test_score</th>\n",
       "      <th>split6_test_score</th>\n",
       "      <th>split7_test_score</th>\n",
       "      <th>split8_test_score</th>\n",
       "      <th>split9_test_score</th>\n",
       "      <th>mean_test_score</th>\n",
       "      <th>std_test_score</th>\n",
       "      <th>rank_test_score</th>\n",
       "    </tr>\n",
       "  </thead>\n",
       "  <tbody>\n",
       "    <tr>\n",
       "      <td>184</td>\n",
       "      <td>0.1415</td>\n",
       "      <td>0.022953</td>\n",
       "      <td>0.001025</td>\n",
       "      <td>0.000316</td>\n",
       "      <td>0.00175568</td>\n",
       "      <td>27.8256</td>\n",
       "      <td>0.16681</td>\n",
       "      <td>{'lam': 0.0017556762912750014, 'rho1': 27.8255...</td>\n",
       "      <td>-0.072858</td>\n",
       "      <td>-0.095564</td>\n",
       "      <td>...</td>\n",
       "      <td>-0.080951</td>\n",
       "      <td>-0.086104</td>\n",
       "      <td>-0.09879</td>\n",
       "      <td>-0.086143</td>\n",
       "      <td>-0.07264</td>\n",
       "      <td>-0.07837</td>\n",
       "      <td>-0.065484</td>\n",
       "      <td>-0.080725</td>\n",
       "      <td>0.010381</td>\n",
       "      <td>1</td>\n",
       "    </tr>\n",
       "  </tbody>\n",
       "</table>\n",
       "<p>1 rows × 21 columns</p>\n",
       "</div>"
      ],
      "text/plain": [
       "     mean_fit_time  std_fit_time  mean_score_time  std_score_time   param_lam  \\\n",
       "184         0.1415      0.022953         0.001025        0.000316  0.00175568   \n",
       "\n",
       "    param_rho1 param_rho2                                             params  \\\n",
       "184    27.8256    0.16681  {'lam': 0.0017556762912750014, 'rho1': 27.8255...   \n",
       "\n",
       "     split0_test_score  split1_test_score  ...  split3_test_score  \\\n",
       "184          -0.072858          -0.095564  ...          -0.080951   \n",
       "\n",
       "     split4_test_score  split5_test_score  split6_test_score  \\\n",
       "184          -0.086104           -0.09879          -0.086143   \n",
       "\n",
       "     split7_test_score  split8_test_score  split9_test_score  mean_test_score  \\\n",
       "184           -0.07264           -0.07837          -0.065484        -0.080725   \n",
       "\n",
       "     std_test_score  rank_test_score  \n",
       "184        0.010381                1  \n",
       "\n",
       "[1 rows x 21 columns]"
      ]
     },
     "execution_count": 73,
     "metadata": {},
     "output_type": "execute_result"
    }
   ],
   "source": [
    "df_result = pd.DataFrame.from_dict(clf.cv_results_)\n",
    "df_result[df_result['mean_test_score']==df_result['mean_test_score'].max()]"
   ]
  },
  {
   "cell_type": "markdown",
   "metadata": {},
   "source": [
    "-0.080725 ± 0.010381\n",
    "まあ1標準偏差内ではあるが一応改善されているっぽい  \n",
    "  \n",
    "下を見ると結構スパースな係数をちゃんと出していて、選んでいるパラメータも違うっぽい"
   ]
  },
  {
   "cell_type": "code",
   "execution_count": 74,
   "metadata": {},
   "outputs": [],
   "source": [
    "best_ladl1 = clf.best_estimator_"
   ]
  },
  {
   "cell_type": "code",
   "execution_count": 75,
   "metadata": {},
   "outputs": [
    {
     "data": {
      "text/plain": [
       "{'lam': 0.0017556762912750014,\n",
       " 'max_iter': 100,\n",
       " 'rho1': 27.825594022071257,\n",
       " 'rho2': 0.1668100537200059,\n",
       " 'tol': 0.001}"
      ]
     },
     "execution_count": 75,
     "metadata": {},
     "output_type": "execute_result"
    }
   ],
   "source": [
    "best_ladl1.get_params()"
   ]
  },
  {
   "cell_type": "code",
   "execution_count": 76,
   "metadata": {},
   "outputs": [
    {
     "data": {
      "text/plain": [
       "[<matplotlib.lines.Line2D at 0x13277acd0>]"
      ]
     },
     "execution_count": 76,
     "metadata": {},
     "output_type": "execute_result"
    },
    {
     "data": {
      "image/png": "[encoded data removed]",
      "text/plain": [
       "<Figure size 432x288 with 1 Axes>"
      ]
     },
     "metadata": {
      "needs_background": "light"
     },
     "output_type": "display_data"
    }
   ],
   "source": [
    "plt.plot(best_ladl1.coef_)"
   ]
  },
  {
   "cell_type": "code",
   "execution_count": 77,
   "metadata": {},
   "outputs": [
    {
     "data": {
      "text/plain": [
       "[<matplotlib.lines.Line2D at 0x1343b9690>]"
      ]
     },
     "execution_count": 77,
     "metadata": {},
     "output_type": "execute_result"
    },
    {
     "data": {
      "image/png": "[encoded data removed]",
      "text/plain": [
       "<Figure size 432x288 with 1 Axes>"
      ]
     },
     "metadata": {
      "needs_background": "light"
     },
     "output_type": "display_data"
    }
   ],
   "source": [
    "plt.plot(best_ladl1.predict(X_train),y_train,\"o\")"
   ]
  },
  {
   "cell_type": "code",
   "execution_count": 78,
   "metadata": {},
   "outputs": [
    {
     "data": {
      "text/plain": [
       "[<matplotlib.lines.Line2D at 0x1320bc510>]"
      ]
     },
     "execution_count": 78,
     "metadata": {},
     "output_type": "execute_result"
    },
    {
     "data": {
      "image/png": "[encoded data removed]",
      "text/plain": [
       "<Figure size 432x288 with 1 Axes>"
      ]
     },
     "metadata": {
      "needs_background": "light"
     },
     "output_type": "display_data"
    }
   ],
   "source": [
    "plt.plot(best_ladl1.coef_,best_en.coef_,\"o\")"
   ]
  },
  {
   "cell_type": "code",
   "execution_count": null,
   "metadata": {},
   "outputs": [],
   "source": []
  },
  {
   "cell_type": "code",
   "execution_count": 79,
   "metadata": {},
   "outputs": [],
   "source": [
    "y_pred_ladl1 = np.exp(best_ladl1.predict(X_test)+y_mean)"
   ]
  },
  {
   "cell_type": "code",
   "execution_count": 80,
   "metadata": {},
   "outputs": [],
   "source": [
    "# データの整形\n",
    "submitPre = pd.DataFrame({\n",
    "                        'Id':list(test.index),\n",
    "                        'SalePrice':y_pred_ladl1\n",
    "                        })\n",
    "# CSV出力\n",
    "submitPre.to_csv(\"sub_lad.csv\",index=False)"
   ]
  },
  {
   "cell_type": "code",
   "execution_count": null,
   "metadata": {},
   "outputs": [],
   "source": []
  },
  {
   "cell_type": "code",
   "execution_count": 264,
   "metadata": {},
   "outputs": [],
   "source": []
  },
  {
   "cell_type": "code",
   "execution_count": 61,
   "metadata": {},
   "outputs": [
    {
     "name": "stdout",
     "output_type": "stream",
     "text": [
      "25.8 ms ± 1.18 ms per loop (mean ± std. dev. of 7 runs, 10 loops each)\n"
     ]
    }
   ],
   "source": [
    "%%timeit\n",
    "beta_lad = lad_l1_admm(X_train,y_train,3e-2,1e-1,1,200,1e-3)"
   ]
  },
  {
   "cell_type": "code",
   "execution_count": null,
   "metadata": {},
   "outputs": [],
   "source": []
  },
  {
   "cell_type": "code",
   "execution_count": null,
   "metadata": {},
   "outputs": [],
   "source": []
  },
  {
   "cell_type": "code",
   "execution_count": null,
   "metadata": {},
   "outputs": [],
   "source": []
  },
  {
   "cell_type": "markdown",
   "metadata": {},
   "source": [
    "LassoとElasticNetではふつうあのくらいだと差はないと思うが、  \n",
    "soft-thresholdingの中身をちょっと変えるだけでElasticNetペナルティになるのでやってみた"
   ]
  },
  {
   "cell_type": "code",
   "execution_count": 82,
   "metadata": {},
   "outputs": [],
   "source": [
    "@jit('f8[:](f8[:,:],f8[:],f8,f8,f8,f8,i8,f8)',nopython=True,fastmath=True)\n",
    "def lad_en_admm(X,y,lam1,lam2,rho1,rho2,max_iter,tol):\n",
    "    N = X[0].size\n",
    "    M = y.size\n",
    "    I_M = np.eye(M)\n",
    "    I_N = np.eye(N)\n",
    "    \n",
    "    ## \\beta - w = 0\n",
    "    beta = np.zeros(N)\n",
    "    w = np.zeros(N)\n",
    "    v = np.zeros(N)\n",
    "    \n",
    "    ## X\\beta-y=z\n",
    "    z = np.zeros(M)\n",
    "    u = np.zeros(M)\n",
    "    \n",
    "    \n",
    "    X = np.asfortranarray(X)\n",
    "    y = np.asfortranarray(y)\n",
    "    XTX_inv = np.linalg.inv(np.dot(X.T,X)+rho1/rho2*I_N)\n",
    "    for i in range(max_iter):\n",
    "        beta= XTX_inv.dot(X.T.dot(y+z-u)+rho1/rho2*(w-v))\n",
    "        \n",
    "        w_prev = w.copy()\n",
    "        w = soft_thresholding(rho2/(rho2+2*lam2)*(beta+v),lam1/2)\n",
    "        v = v + beta - w\n",
    "        \n",
    "        z = soft_thresholding(X.dot(beta)-y+u,1/rho1)\n",
    "        u = u + X.dot(beta)- z -y\n",
    " \n",
    "        if np.sum(np.abs(w_prev-w))<tol:\n",
    "            return w\n",
    "    return (1+lam2)*w"
   ]
  },
  {
   "cell_type": "code",
   "execution_count": 83,
   "metadata": {},
   "outputs": [],
   "source": [
    "class LadENADMM(BaseEstimator, RegressorMixin):\n",
    "    def __init__(self,lam1=0.01,lam2=0.01,rho1=1.,rho2=1.,max_iter=100,tol=1e-3):\n",
    "        self.lam1 = lam1\n",
    "        self.lam2 = lam2\n",
    "        self.rho1 = rho1\n",
    "        self.rho2 = rho2\n",
    "        self.max_iter = max_iter\n",
    "        self.tol = tol\n",
    "        \n",
    "    def fit(self,X,y):\n",
    "        self.coef_ = lad_en_admm(X,y,self.lam1,self.lam2,self.rho1,self.rho2,self.max_iter,self.tol)\n",
    "        return self\n",
    "        \n",
    "    def predict(self,X):\n",
    "        return X.dot(self.coef_)  "
   ]
  },
  {
   "cell_type": "code",
   "execution_count": null,
   "metadata": {},
   "outputs": [],
   "source": []
  },
  {
   "cell_type": "code",
   "execution_count": 88,
   "metadata": {},
   "outputs": [
    {
     "data": {
      "text/plain": [
       "LadENADMM(lam1=0.06)"
      ]
     },
     "execution_count": 88,
     "metadata": {},
     "output_type": "execute_result"
    }
   ],
   "source": [
    "laden = LadENADMM(lam1=0.06,lam2=0.01)\n",
    "laden.fit(X_train,y_train)"
   ]
  },
  {
   "cell_type": "code",
   "execution_count": 89,
   "metadata": {},
   "outputs": [
    {
     "data": {
      "text/plain": [
       "[<matplotlib.lines.Line2D at 0x135c91750>]"
      ]
     },
     "execution_count": 89,
     "metadata": {},
     "output_type": "execute_result"
    },
    {
     "data": {
      "image/png": "[encoded data removed]",
      "text/plain": [
       "<Figure size 432x288 with 1 Axes>"
      ]
     },
     "metadata": {
      "needs_background": "light"
     },
     "output_type": "display_data"
    }
   ],
   "source": [
    "plt.plot(laden.coef_,best_lasso.coef_,\"o\")"
   ]
  },
  {
   "cell_type": "code",
   "execution_count": 90,
   "metadata": {},
   "outputs": [
    {
     "data": {
      "text/plain": [
       "0.06115495737592796"
      ]
     },
     "execution_count": 90,
     "metadata": {},
     "output_type": "execute_result"
    }
   ],
   "source": [
    "np.abs(y_train-X_train@laden.coef_).sum()/M"
   ]
  },
  {
   "cell_type": "code",
   "execution_count": null,
   "metadata": {},
   "outputs": [],
   "source": []
  },
  {
   "cell_type": "markdown",
   "metadata": {},
   "source": [
    "一回のfitが30 msくらいなので気長に待てばL1のときと同じようにrho2も回しても別にいい気もするが,  \n",
    "基本的に比としてしか効いていないのでrho2=1で固定しても問題ない。"
   ]
  },
  {
   "cell_type": "code",
   "execution_count": 100,
   "metadata": {},
   "outputs": [],
   "source": [
    "lam1_array = np.logspace(-3,-0.8,N_grid_search)\n",
    "lam2_array = np.logspace(-3,-0.8,N_grid_search)\n",
    "rho1_array = np.logspace(-1,3,N_grid_search)"
   ]
  },
  {
   "cell_type": "code",
   "execution_count": 101,
   "metadata": {},
   "outputs": [
    {
     "data": {
      "text/plain": [
       "GridSearchCV(cv=KFold(n_splits=10, random_state=42, shuffle=True),\n",
       "             estimator=LadENADMM(), n_jobs=-1,\n",
       "             param_grid={'lam1': array([0.001     , 0.00175568, 0.0030824 , 0.0054117 , 0.00950119,\n",
       "       0.01668101, 0.02928645, 0.05141752, 0.09027252, 0.15848932]),\n",
       "                         'lam2': array([0.001     , 0.00175568, 0.0030824 , 0.0054117 , 0.00950119,\n",
       "       0.01668101, 0.02928645, 0.05141752, 0.09027252, 0.15848932]),\n",
       "                         'rho1': array([1.00000000e-01, 2.78255940e-01, 7.74263683e-01, 2.15443469e+00,\n",
       "       5.99484250e+00, 1.66810054e+01, 4.64158883e+01, 1.29154967e+02,\n",
       "       3.59381366e+02, 1.00000000e+03])},\n",
       "             scoring='neg_mean_absolute_error')"
      ]
     },
     "execution_count": 101,
     "metadata": {},
     "output_type": "execute_result"
    }
   ],
   "source": [
    "laden = LadENADMM(max_iter=100)\n",
    "parameters = {'lam1':lam1_array,'lam2':lam2_array,'rho1':rho1_array}\n",
    "clf = GridSearchCV(laden, parameters,cv=kf,scoring='neg_mean_absolute_error',n_jobs=-1)\n",
    "clf.fit(X_train,y_train)"
   ]
  },
  {
   "cell_type": "code",
   "execution_count": 103,
   "metadata": {},
   "outputs": [
    {
     "data": {
      "text/html": [
       "<div>\n",
       "<style scoped>\n",
       "    .dataframe tbody tr th:only-of-type {\n",
       "        vertical-align: middle;\n",
       "    }\n",
       "\n",
       "    .dataframe tbody tr th {\n",
       "        vertical-align: top;\n",
       "    }\n",
       "\n",
       "    .dataframe thead th {\n",
       "        text-align: right;\n",
       "    }\n",
       "</style>\n",
       "<table border=\"1\" class=\"dataframe\">\n",
       "  <thead>\n",
       "    <tr style=\"text-align: right;\">\n",
       "      <th></th>\n",
       "      <th>mean_fit_time</th>\n",
       "      <th>std_fit_time</th>\n",
       "      <th>mean_score_time</th>\n",
       "      <th>std_score_time</th>\n",
       "      <th>param_lam1</th>\n",
       "      <th>param_lam2</th>\n",
       "      <th>param_rho1</th>\n",
       "      <th>params</th>\n",
       "      <th>split0_test_score</th>\n",
       "      <th>split1_test_score</th>\n",
       "      <th>...</th>\n",
       "      <th>split3_test_score</th>\n",
       "      <th>split4_test_score</th>\n",
       "      <th>split5_test_score</th>\n",
       "      <th>split6_test_score</th>\n",
       "      <th>split7_test_score</th>\n",
       "      <th>split8_test_score</th>\n",
       "      <th>split9_test_score</th>\n",
       "      <th>mean_test_score</th>\n",
       "      <th>std_test_score</th>\n",
       "      <th>rank_test_score</th>\n",
       "    </tr>\n",
       "  </thead>\n",
       "  <tbody>\n",
       "    <tr>\n",
       "      <td>766</td>\n",
       "      <td>0.131206</td>\n",
       "      <td>0.013806</td>\n",
       "      <td>0.0011</td>\n",
       "      <td>0.000472</td>\n",
       "      <td>0.0514175</td>\n",
       "      <td>0.0292864</td>\n",
       "      <td>46.4159</td>\n",
       "      <td>{'lam1': 0.051417518276839276, 'lam2': 0.02928...</td>\n",
       "      <td>-0.072035</td>\n",
       "      <td>-0.094739</td>\n",
       "      <td>...</td>\n",
       "      <td>-0.080081</td>\n",
       "      <td>-0.085747</td>\n",
       "      <td>-0.098167</td>\n",
       "      <td>-0.086762</td>\n",
       "      <td>-0.074019</td>\n",
       "      <td>-0.078568</td>\n",
       "      <td>-0.063789</td>\n",
       "      <td>-0.080541</td>\n",
       "      <td>0.010292</td>\n",
       "      <td>1</td>\n",
       "    </tr>\n",
       "  </tbody>\n",
       "</table>\n",
       "<p>1 rows × 21 columns</p>\n",
       "</div>"
      ],
      "text/plain": [
       "     mean_fit_time  std_fit_time  mean_score_time  std_score_time param_lam1  \\\n",
       "766       0.131206      0.013806           0.0011        0.000472  0.0514175   \n",
       "\n",
       "    param_lam2 param_rho1                                             params  \\\n",
       "766  0.0292864    46.4159  {'lam1': 0.051417518276839276, 'lam2': 0.02928...   \n",
       "\n",
       "     split0_test_score  split1_test_score  ...  split3_test_score  \\\n",
       "766          -0.072035          -0.094739  ...          -0.080081   \n",
       "\n",
       "     split4_test_score  split5_test_score  split6_test_score  \\\n",
       "766          -0.085747          -0.098167          -0.086762   \n",
       "\n",
       "     split7_test_score  split8_test_score  split9_test_score  mean_test_score  \\\n",
       "766          -0.074019          -0.078568          -0.063789        -0.080541   \n",
       "\n",
       "     std_test_score  rank_test_score  \n",
       "766        0.010292                1  \n",
       "\n",
       "[1 rows x 21 columns]"
      ]
     },
     "execution_count": 103,
     "metadata": {},
     "output_type": "execute_result"
    }
   ],
   "source": [
    "df_result = pd.DataFrame.from_dict(clf.cv_results_)\n",
    "df_result[df_result['mean_test_score']==df_result['mean_test_score'].max()]"
   ]
  },
  {
   "cell_type": "code",
   "execution_count": null,
   "metadata": {},
   "outputs": [],
   "source": []
  },
  {
   "cell_type": "markdown",
   "metadata": {},
   "source": [
    "LADの場合:  \n",
    "ElasticNetペナルティ: -0.080541±0.010292  \n",
    "L1:-0.080725 ± 0.010381  "
   ]
  },
  {
   "cell_type": "code",
   "execution_count": null,
   "metadata": {},
   "outputs": [],
   "source": []
  },
  {
   "cell_type": "code",
   "execution_count": null,
   "metadata": {},
   "outputs": [],
   "source": []
  },
  {
   "cell_type": "code",
   "execution_count": 104,
   "metadata": {},
   "outputs": [],
   "source": [
    "best_laden = clf.best_estimator_"
   ]
  },
  {
   "cell_type": "code",
   "execution_count": 105,
   "metadata": {},
   "outputs": [
    {
     "data": {
      "text/plain": [
       "{'lam1': 0.051417518276839276,\n",
       " 'lam2': 0.029286445646252372,\n",
       " 'max_iter': 100,\n",
       " 'rho1': 46.41588833612777,\n",
       " 'rho2': 1.0,\n",
       " 'tol': 0.001}"
      ]
     },
     "execution_count": 105,
     "metadata": {},
     "output_type": "execute_result"
    }
   ],
   "source": [
    "best_laden.get_params()"
   ]
  },
  {
   "cell_type": "code",
   "execution_count": 106,
   "metadata": {},
   "outputs": [
    {
     "data": {
      "text/plain": [
       "[<matplotlib.lines.Line2D at 0x1358c84d0>]"
      ]
     },
     "execution_count": 106,
     "metadata": {},
     "output_type": "execute_result"
    },
    {
     "data": {
      "image/png": "[encoded data removed]",
      "text/plain": [
       "<Figure size 432x288 with 1 Axes>"
      ]
     },
     "metadata": {
      "needs_background": "light"
     },
     "output_type": "display_data"
    }
   ],
   "source": [
    "plt.plot(best_laden.coef_)"
   ]
  },
  {
   "cell_type": "code",
   "execution_count": 107,
   "metadata": {},
   "outputs": [
    {
     "data": {
      "text/plain": [
       "[<matplotlib.lines.Line2D at 0x13243e710>]"
      ]
     },
     "execution_count": 107,
     "metadata": {},
     "output_type": "execute_result"
    },
    {
     "data": {
      "image/png": "[encoded data removed]",
      "text/plain": [
       "<Figure size 432x288 with 1 Axes>"
      ]
     },
     "metadata": {
      "needs_background": "light"
     },
     "output_type": "display_data"
    }
   ],
   "source": [
    "plt.plot(best_laden.predict(X_train),y_train,\"o\")"
   ]
  },
  {
   "cell_type": "code",
   "execution_count": 109,
   "metadata": {},
   "outputs": [
    {
     "data": {
      "text/plain": [
       "[<matplotlib.lines.Line2D at 0x132c45e10>]"
      ]
     },
     "execution_count": 109,
     "metadata": {},
     "output_type": "execute_result"
    },
    {
     "data": {
      "image/png": "[encoded data removed]",
      "text/plain": [
       "<Figure size 432x288 with 1 Axes>"
      ]
     },
     "metadata": {
      "needs_background": "light"
     },
     "output_type": "display_data"
    }
   ],
   "source": [
    "plt.plot(best_laden.coef_,best_ladl1.coef_,\"o\")"
   ]
  },
  {
   "cell_type": "code",
   "execution_count": 110,
   "metadata": {},
   "outputs": [],
   "source": [
    "y_pred_laden = np.exp(best_laden.predict(X_test)+y_mean)"
   ]
  },
  {
   "cell_type": "code",
   "execution_count": 111,
   "metadata": {},
   "outputs": [],
   "source": [
    "# データの整形\n",
    "submitPre = pd.DataFrame({\n",
    "                        'Id':list(test.index),\n",
    "                        'SalePrice':y_pred_laden\n",
    "                        })\n",
    "# CSV出力\n",
    "submitPre.to_csv(\"sub_laden.csv\",index=False)"
   ]
  },
  {
   "cell_type": "code",
   "execution_count": null,
   "metadata": {},
   "outputs": [],
   "source": []
  },
  {
   "cell_type": "code",
   "execution_count": null,
   "metadata": {},
   "outputs": [],
   "source": []
  },
  {
   "cell_type": "code",
   "execution_count": 112,
   "metadata": {},
   "outputs": [],
   "source": [
    "@jit('f8[:](f8[:,:],f8[:],f8,f8,f8,f8,f8,i8,f8)',nopython=True,fastmath=True)\n",
    "def huber_en_admm(X,y,lam1,lam2,delta,rho1,rho2,max_iter,tol):\n",
    "    N = X[0].size\n",
    "    M = y.size\n",
    "    I_M = np.eye(M)\n",
    "    I_N = np.eye(N)\n",
    "    \n",
    "    ## \\beta - w = 0\n",
    "    beta = np.zeros(N)\n",
    "    w = np.zeros(N)\n",
    "    v = np.zeros(N)\n",
    "    \n",
    "    ## X\\beta-y=z\n",
    "    z = np.zeros(M)\n",
    "    u = np.zeros(M)\n",
    "    \n",
    "    \n",
    "    X = np.asfortranarray(X)\n",
    "    y = np.asfortranarray(y)\n",
    "    XTX_inv = np.linalg.inv(np.dot(X.T,X)+rho1/rho2*I_N)\n",
    "    for i in range(max_iter):\n",
    "        beta= XTX_inv.dot(X.T.dot(y+z-u)+rho1/rho2*(w-v))\n",
    "        \n",
    "        w_prev = w.copy()\n",
    "        w = soft_thresholding(rho2/(rho2+2*lam2)*(beta+v),lam1/2)\n",
    "        v = v + beta - w\n",
    "        \n",
    "        z_tmp = X.dot(beta)-y+u\n",
    "        z = (rho1/(rho1+delta))*z_tmp + 1/(rho1+delta)*soft_thresholding(z_tmp,1+delta/rho1)\n",
    "        u = u + X.dot(beta)- z -y\n",
    " \n",
    "        if np.sum(np.abs(w_prev-w))<tol:\n",
    "            return w\n",
    "    return (1+lam2)*w"
   ]
  },
  {
   "cell_type": "code",
   "execution_count": 115,
   "metadata": {},
   "outputs": [],
   "source": [
    "class HuberENADMM(BaseEstimator, RegressorMixin):\n",
    "    def __init__(self,lam1=0.01,lam2=0.01,delta=1,rho1=1.,rho2=1.,max_iter=100,tol=1e-3):\n",
    "        self.lam1 = lam1\n",
    "        self.lam2 = lam2\n",
    "        self.delta = delta\n",
    "        self.rho1 = rho1\n",
    "        self.rho2 = rho2\n",
    "        self.max_iter = max_iter\n",
    "        self.tol = tol\n",
    "        \n",
    "    def fit(self,X,y):\n",
    "        self.coef_ = huber_en_admm(X,y,self.lam1,self.lam2,self.delta,self.rho1,self.rho2,self.max_iter,self.tol)\n",
    "        return self\n",
    "        \n",
    "    def predict(self,X):\n",
    "        return X.dot(self.coef_)  "
   ]
  },
  {
   "cell_type": "code",
   "execution_count": 116,
   "metadata": {},
   "outputs": [
    {
     "data": {
      "text/plain": [
       "HuberENADMM(lam1=0.06)"
      ]
     },
     "execution_count": 116,
     "metadata": {},
     "output_type": "execute_result"
    }
   ],
   "source": [
    "huberen = HuberENADMM(lam1=0.06,lam2=0.01)\n",
    "huberen.fit(X_train,y_train)"
   ]
  },
  {
   "cell_type": "code",
   "execution_count": 117,
   "metadata": {},
   "outputs": [
    {
     "data": {
      "text/plain": [
       "[<matplotlib.lines.Line2D at 0x132664690>]"
      ]
     },
     "execution_count": 117,
     "metadata": {},
     "output_type": "execute_result"
    },
    {
     "data": {
      "image/png": "[encoded data removed]",
      "text/plain": [
       "<Figure size 432x288 with 1 Axes>"
      ]
     },
     "metadata": {
      "needs_background": "light"
     },
     "output_type": "display_data"
    }
   ],
   "source": [
    "plt.plot(best_laden.coef_,huberen.coef_,\"o\")"
   ]
  },
  {
   "cell_type": "code",
   "execution_count": 118,
   "metadata": {},
   "outputs": [
    {
     "data": {
      "text/plain": [
       "0.06540114897531953"
      ]
     },
     "execution_count": 118,
     "metadata": {},
     "output_type": "execute_result"
    }
   ],
   "source": [
    "np.abs(y_train-X_train@huberen.coef_).sum()/M"
   ]
  },
  {
   "cell_type": "code",
   "execution_count": 146,
   "metadata": {},
   "outputs": [],
   "source": [
    "lam1_array = np.logspace(-3,-0.8,N_grid_search)\n",
    "lam2_array = np.logspace(-6,-2,N_grid_search)\n",
    "rho1_array = np.logspace(0,3,N_grid_search)\n",
    "delta_array = np.logspace(-2,-0.5,N_grid_search)"
   ]
  },
  {
   "cell_type": "code",
   "execution_count": 147,
   "metadata": {},
   "outputs": [
    {
     "data": {
      "text/plain": [
       "GridSearchCV(cv=KFold(n_splits=10, random_state=42, shuffle=True),\n",
       "             estimator=HuberENADMM(), n_jobs=-1,\n",
       "             param_grid={'delta': array([0.01      , 0.01467799, 0.02154435, 0.03162278, 0.04641589,\n",
       "       0.06812921, 0.1       , 0.14677993, 0.21544347, 0.31622777]),\n",
       "                         'lam1': array([0.001     , 0.00175568, 0.0030824 , 0.0054117 , 0.00950119,\n",
       "       0.01668101, 0.02928645, 0.05141752, 0.09027252, 0.15848932]),\n",
       "                         'lam2': array([1.00000000e-06, 2.78255940e-06, 7.74263683e-06, 2.15443469e-05,\n",
       "       5.99484250e-05, 1.66810054e-04, 4.64158883e-04, 1.29154967e-03,\n",
       "       3.59381366e-03, 1.00000000e-02]),\n",
       "                         'rho1': array([   1.        ,    2.15443469,    4.64158883,   10.        ,\n",
       "         21.5443469 ,   46.41588834,  100.        ,  215.443469  ,\n",
       "        464.15888336, 1000.        ])},\n",
       "             scoring='neg_mean_absolute_error')"
      ]
     },
     "execution_count": 147,
     "metadata": {},
     "output_type": "execute_result"
    }
   ],
   "source": [
    "huberen = HuberENADMM(max_iter=100)\n",
    "parameters = {'lam1':lam1_array,'lam2':lam2_array,'delta':delta_array,'rho1':rho1_array}\n",
    "clf = GridSearchCV(huberen, parameters,cv=kf,scoring='neg_mean_absolute_error',n_jobs=-1)\n",
    "clf.fit(X_train,y_train)"
   ]
  },
  {
   "cell_type": "code",
   "execution_count": 148,
   "metadata": {},
   "outputs": [
    {
     "data": {
      "text/html": [
       "<div>\n",
       "<style scoped>\n",
       "    .dataframe tbody tr th:only-of-type {\n",
       "        vertical-align: middle;\n",
       "    }\n",
       "\n",
       "    .dataframe tbody tr th {\n",
       "        vertical-align: top;\n",
       "    }\n",
       "\n",
       "    .dataframe thead th {\n",
       "        text-align: right;\n",
       "    }\n",
       "</style>\n",
       "<table border=\"1\" class=\"dataframe\">\n",
       "  <thead>\n",
       "    <tr style=\"text-align: right;\">\n",
       "      <th></th>\n",
       "      <th>mean_fit_time</th>\n",
       "      <th>std_fit_time</th>\n",
       "      <th>mean_score_time</th>\n",
       "      <th>std_score_time</th>\n",
       "      <th>param_delta</th>\n",
       "      <th>param_lam1</th>\n",
       "      <th>param_lam2</th>\n",
       "      <th>param_rho1</th>\n",
       "      <th>params</th>\n",
       "      <th>split0_test_score</th>\n",
       "      <th>...</th>\n",
       "      <th>split3_test_score</th>\n",
       "      <th>split4_test_score</th>\n",
       "      <th>split5_test_score</th>\n",
       "      <th>split6_test_score</th>\n",
       "      <th>split7_test_score</th>\n",
       "      <th>split8_test_score</th>\n",
       "      <th>split9_test_score</th>\n",
       "      <th>mean_test_score</th>\n",
       "      <th>std_test_score</th>\n",
       "      <th>rank_test_score</th>\n",
       "    </tr>\n",
       "  </thead>\n",
       "  <tbody>\n",
       "    <tr>\n",
       "      <td>8802</td>\n",
       "      <td>0.140158</td>\n",
       "      <td>0.011101</td>\n",
       "      <td>0.001149</td>\n",
       "      <td>0.000542</td>\n",
       "      <td>0.215443</td>\n",
       "      <td>0.0902725</td>\n",
       "      <td>1e-06</td>\n",
       "      <td>4.64159</td>\n",
       "      <td>{'delta': 0.21544346900318834, 'lam1': 0.09027...</td>\n",
       "      <td>-0.075048</td>\n",
       "      <td>...</td>\n",
       "      <td>-0.08212</td>\n",
       "      <td>-0.086012</td>\n",
       "      <td>-0.101386</td>\n",
       "      <td>-0.090669</td>\n",
       "      <td>-0.072958</td>\n",
       "      <td>-0.078929</td>\n",
       "      <td>-0.064717</td>\n",
       "      <td>-0.081501</td>\n",
       "      <td>0.0104</td>\n",
       "      <td>1</td>\n",
       "    </tr>\n",
       "  </tbody>\n",
       "</table>\n",
       "<p>1 rows × 22 columns</p>\n",
       "</div>"
      ],
      "text/plain": [
       "      mean_fit_time  std_fit_time  mean_score_time  std_score_time  \\\n",
       "8802       0.140158      0.011101         0.001149        0.000542   \n",
       "\n",
       "     param_delta param_lam1 param_lam2 param_rho1  \\\n",
       "8802    0.215443  0.0902725      1e-06    4.64159   \n",
       "\n",
       "                                                 params  split0_test_score  \\\n",
       "8802  {'delta': 0.21544346900318834, 'lam1': 0.09027...          -0.075048   \n",
       "\n",
       "      ...  split3_test_score  split4_test_score  split5_test_score  \\\n",
       "8802  ...           -0.08212          -0.086012          -0.101386   \n",
       "\n",
       "      split6_test_score  split7_test_score  split8_test_score  \\\n",
       "8802          -0.090669          -0.072958          -0.078929   \n",
       "\n",
       "      split9_test_score  mean_test_score  std_test_score  rank_test_score  \n",
       "8802          -0.064717        -0.081501          0.0104                1  \n",
       "\n",
       "[1 rows x 22 columns]"
      ]
     },
     "execution_count": 148,
     "metadata": {},
     "output_type": "execute_result"
    }
   ],
   "source": [
    "df_result = pd.DataFrame.from_dict(clf.cv_results_)\n",
    "df_result[df_result['mean_test_score']==df_result['mean_test_score'].max()]"
   ]
  },
  {
   "cell_type": "markdown",
   "metadata": {},
   "source": [
    "LAD+ElasticNet  : -0.080541±0.010292  \n",
    "Huber+ElasticNet:-0.081501 ± 0.01032  "
   ]
  },
  {
   "cell_type": "code",
   "execution_count": null,
   "metadata": {},
   "outputs": [],
   "source": []
  },
  {
   "cell_type": "code",
   "execution_count": 149,
   "metadata": {},
   "outputs": [],
   "source": [
    "best_huberen = clf.best_estimator_"
   ]
  },
  {
   "cell_type": "code",
   "execution_count": 150,
   "metadata": {},
   "outputs": [
    {
     "data": {
      "text/plain": [
       "{'delta': 0.21544346900318834,\n",
       " 'lam1': 0.09027251779484578,\n",
       " 'lam2': 1e-06,\n",
       " 'max_iter': 100,\n",
       " 'rho1': 4.641588833612778,\n",
       " 'rho2': 1.0,\n",
       " 'tol': 0.001}"
      ]
     },
     "execution_count": 150,
     "metadata": {},
     "output_type": "execute_result"
    }
   ],
   "source": [
    "best_huberen.get_params()"
   ]
  },
  {
   "cell_type": "code",
   "execution_count": 153,
   "metadata": {},
   "outputs": [
    {
     "data": {
      "text/plain": [
       "[<matplotlib.lines.Line2D at 0x135875e50>]"
      ]
     },
     "execution_count": 153,
     "metadata": {},
     "output_type": "execute_result"
    },
    {
     "data": {
      "image/png": "[encoded data removed]",
      "text/plain": [
       "<Figure size 432x288 with 1 Axes>"
      ]
     },
     "metadata": {
      "needs_background": "light"
     },
     "output_type": "display_data"
    }
   ],
   "source": [
    "plt.plot(best_huberen.coef_)"
   ]
  },
  {
   "cell_type": "code",
   "execution_count": 154,
   "metadata": {},
   "outputs": [
    {
     "data": {
      "text/plain": [
       "[<matplotlib.lines.Line2D at 0x1371b3d50>]"
      ]
     },
     "execution_count": 154,
     "metadata": {},
     "output_type": "execute_result"
    },
    {
     "data": {
      "image/png": "[encoded data removed]",
      "text/plain": [
       "<Figure size 432x288 with 1 Axes>"
      ]
     },
     "metadata": {
      "needs_background": "light"
     },
     "output_type": "display_data"
    }
   ],
   "source": [
    "plt.plot(best_huberen.predict(X_train),y_train,\"o\")"
   ]
  },
  {
   "cell_type": "code",
   "execution_count": 155,
   "metadata": {},
   "outputs": [
    {
     "data": {
      "text/plain": [
       "[<matplotlib.lines.Line2D at 0x137024250>]"
      ]
     },
     "execution_count": 155,
     "metadata": {},
     "output_type": "execute_result"
    },
    {
     "data": {
      "image/png": "[encoded data removed]",
      "text/plain": [
       "<Figure size 432x288 with 1 Axes>"
      ]
     },
     "metadata": {
      "needs_background": "light"
     },
     "output_type": "display_data"
    }
   ],
   "source": [
    "plt.plot(best_huberen.coef_,best_laden.coef_,\"o\")"
   ]
  },
  {
   "cell_type": "code",
   "execution_count": 156,
   "metadata": {},
   "outputs": [],
   "source": [
    "y_pred_huberen = np.exp(best_huberen.predict(X_test)+y_mean)"
   ]
  },
  {
   "cell_type": "code",
   "execution_count": 157,
   "metadata": {},
   "outputs": [],
   "source": [
    "# データの整形\n",
    "submitPre = pd.DataFrame({\n",
    "                        'Id':list(test.index),\n",
    "                        'SalePrice':y_pred_huberen\n",
    "                        })\n",
    "# CSV出力\n",
    "submitPre.to_csv(\"sub_huberen.csv\",index=False)"
   ]
  },
  {
   "cell_type": "code",
   "execution_count": null,
   "metadata": {},
   "outputs": [],
   "source": []
  },
  {
   "cell_type": "code",
   "execution_count": 159,
   "metadata": {},
   "outputs": [],
   "source": [
    "@jit('f8[:](f8[:,:],f8[:],f8,f8,f8,f8,i8,f8)',nopython=True,fastmath=True)\n",
    "def huber_l1_admm(X,y,lam,delta,rho1,rho2,max_iter,tol):\n",
    "    N = X[0].size\n",
    "    M = y.size\n",
    "    I_M = np.eye(M)\n",
    "    I_N = np.eye(N)\n",
    "    \n",
    "    ## \\beta - w = 0\n",
    "    beta = np.zeros(N)\n",
    "    w = np.zeros(N)\n",
    "    v = np.zeros(N)\n",
    "    \n",
    "    ## X\\beta-y=z\n",
    "    z = np.zeros(M)\n",
    "    u = np.zeros(M)\n",
    "    \n",
    "    \n",
    "    X = np.asfortranarray(X)\n",
    "    y = np.asfortranarray(y)\n",
    "    XTX_inv = np.linalg.inv(np.dot(X.T,X)+rho1/rho2*I_N)\n",
    "    for i in range(max_iter):\n",
    "        beta= XTX_inv.dot(X.T.dot(y+z-u)+rho1/rho2*(w-v))\n",
    "        \n",
    "        w_prev = w.copy()\n",
    "        w = soft_thresholding(beta+v,lam/rho2)\n",
    "        v = v + beta - w\n",
    "        \n",
    "        z_tmp = X.dot(beta)-y+u\n",
    "        z = (rho1/(rho1+delta))*z_tmp + 1/(rho1+delta)*soft_thresholding(z_tmp,1+delta/rho1)\n",
    "        u = u + X.dot(beta)- z -y\n",
    " \n",
    "        if np.sum(np.abs(w_prev-w))<tol:\n",
    "            return w\n",
    "    return w"
   ]
  },
  {
   "cell_type": "code",
   "execution_count": 160,
   "metadata": {},
   "outputs": [],
   "source": [
    "class HuberL1ADMM(BaseEstimator, RegressorMixin):\n",
    "    def __init__(self,lam=0.01,delta=1,rho1=1.,rho2=1.,max_iter=100,tol=1e-3):\n",
    "        self.lam = lam\n",
    "        self.delta = delta\n",
    "        self.rho1 = rho1\n",
    "        self.rho2 = rho2\n",
    "        self.max_iter = max_iter\n",
    "        self.tol = tol\n",
    "        \n",
    "    def fit(self,X,y):\n",
    "        self.coef_ = huber_l1_admm(X,y,self.lam,self.delta,self.rho1,self.rho2,self.max_iter,self.tol)\n",
    "        return self\n",
    "        \n",
    "    def predict(self,X):\n",
    "        return X.dot(self.coef_)  "
   ]
  },
  {
   "cell_type": "code",
   "execution_count": 161,
   "metadata": {},
   "outputs": [],
   "source": [
    "lam_array = np.logspace(-3,-0.8,N_grid_search)\n",
    "rho1_array = np.logspace(0,3,N_grid_search)\n",
    "delta_array = np.logspace(-2,-0.5,N_grid_search)"
   ]
  },
  {
   "cell_type": "code",
   "execution_count": 163,
   "metadata": {},
   "outputs": [
    {
     "data": {
      "text/plain": [
       "GridSearchCV(cv=KFold(n_splits=10, random_state=42, shuffle=True),\n",
       "             estimator=HuberL1ADMM(), n_jobs=-1,\n",
       "             param_grid={'delta': array([0.01      , 0.01467799, 0.02154435, 0.03162278, 0.04641589,\n",
       "       0.06812921, 0.1       , 0.14677993, 0.21544347, 0.31622777]),\n",
       "                         'lam': array([0.001     , 0.00175568, 0.0030824 , 0.0054117 , 0.00950119,\n",
       "       0.01668101, 0.02928645, 0.05141752, 0.09027252, 0.15848932]),\n",
       "                         'rho1': array([   1.        ,    2.15443469,    4.64158883,   10.        ,\n",
       "         21.5443469 ,   46.41588834,  100.        ,  215.443469  ,\n",
       "        464.15888336, 1000.        ])},\n",
       "             scoring='neg_mean_absolute_error')"
      ]
     },
     "execution_count": 163,
     "metadata": {},
     "output_type": "execute_result"
    }
   ],
   "source": [
    "huberl1 = HuberL1ADMM(max_iter=100)\n",
    "parameters = {'lam':lam_array,'delta':delta_array,'rho1':rho1_array}\n",
    "clf = GridSearchCV(huberl1, parameters,cv=kf,scoring='neg_mean_absolute_error',n_jobs=-1)\n",
    "clf.fit(X_train,y_train)"
   ]
  },
  {
   "cell_type": "code",
   "execution_count": 164,
   "metadata": {},
   "outputs": [
    {
     "data": {
      "text/html": [
       "<div>\n",
       "<style scoped>\n",
       "    .dataframe tbody tr th:only-of-type {\n",
       "        vertical-align: middle;\n",
       "    }\n",
       "\n",
       "    .dataframe tbody tr th {\n",
       "        vertical-align: top;\n",
       "    }\n",
       "\n",
       "    .dataframe thead th {\n",
       "        text-align: right;\n",
       "    }\n",
       "</style>\n",
       "<table border=\"1\" class=\"dataframe\">\n",
       "  <thead>\n",
       "    <tr style=\"text-align: right;\">\n",
       "      <th></th>\n",
       "      <th>mean_fit_time</th>\n",
       "      <th>std_fit_time</th>\n",
       "      <th>mean_score_time</th>\n",
       "      <th>std_score_time</th>\n",
       "      <th>param_delta</th>\n",
       "      <th>param_lam</th>\n",
       "      <th>param_rho1</th>\n",
       "      <th>params</th>\n",
       "      <th>split0_test_score</th>\n",
       "      <th>split1_test_score</th>\n",
       "      <th>...</th>\n",
       "      <th>split3_test_score</th>\n",
       "      <th>split4_test_score</th>\n",
       "      <th>split5_test_score</th>\n",
       "      <th>split6_test_score</th>\n",
       "      <th>split7_test_score</th>\n",
       "      <th>split8_test_score</th>\n",
       "      <th>split9_test_score</th>\n",
       "      <th>mean_test_score</th>\n",
       "      <th>std_test_score</th>\n",
       "      <th>rank_test_score</th>\n",
       "    </tr>\n",
       "  </thead>\n",
       "  <tbody>\n",
       "    <tr>\n",
       "      <td>762</td>\n",
       "      <td>0.146356</td>\n",
       "      <td>0.007689</td>\n",
       "      <td>0.001122</td>\n",
       "      <td>0.000618</td>\n",
       "      <td>0.14678</td>\n",
       "      <td>0.0292864</td>\n",
       "      <td>4.64159</td>\n",
       "      <td>{'delta': 0.1467799267622069, 'lam': 0.0292864...</td>\n",
       "      <td>-0.075283</td>\n",
       "      <td>-0.090813</td>\n",
       "      <td>...</td>\n",
       "      <td>-0.081829</td>\n",
       "      <td>-0.086144</td>\n",
       "      <td>-0.101162</td>\n",
       "      <td>-0.090757</td>\n",
       "      <td>-0.07325</td>\n",
       "      <td>-0.078872</td>\n",
       "      <td>-0.064813</td>\n",
       "      <td>-0.081512</td>\n",
       "      <td>0.010292</td>\n",
       "      <td>1</td>\n",
       "    </tr>\n",
       "  </tbody>\n",
       "</table>\n",
       "<p>1 rows × 21 columns</p>\n",
       "</div>"
      ],
      "text/plain": [
       "     mean_fit_time  std_fit_time  mean_score_time  std_score_time param_delta  \\\n",
       "762       0.146356      0.007689         0.001122        0.000618     0.14678   \n",
       "\n",
       "     param_lam param_rho1                                             params  \\\n",
       "762  0.0292864    4.64159  {'delta': 0.1467799267622069, 'lam': 0.0292864...   \n",
       "\n",
       "     split0_test_score  split1_test_score  ...  split3_test_score  \\\n",
       "762          -0.075283          -0.090813  ...          -0.081829   \n",
       "\n",
       "     split4_test_score  split5_test_score  split6_test_score  \\\n",
       "762          -0.086144          -0.101162          -0.090757   \n",
       "\n",
       "     split7_test_score  split8_test_score  split9_test_score  mean_test_score  \\\n",
       "762           -0.07325          -0.078872          -0.064813        -0.081512   \n",
       "\n",
       "     std_test_score  rank_test_score  \n",
       "762        0.010292                1  \n",
       "\n",
       "[1 rows x 21 columns]"
      ]
     },
     "execution_count": 164,
     "metadata": {},
     "output_type": "execute_result"
    }
   ],
   "source": [
    "df_result = pd.DataFrame.from_dict(clf.cv_results_)\n",
    "df_result[df_result['mean_test_score']==df_result['mean_test_score'].max()]"
   ]
  },
  {
   "cell_type": "code",
   "execution_count": 165,
   "metadata": {},
   "outputs": [],
   "source": [
    "best_huberl1 = clf.best_estimator_"
   ]
  },
  {
   "cell_type": "code",
   "execution_count": 166,
   "metadata": {},
   "outputs": [
    {
     "data": {
      "text/plain": [
       "{'delta': 0.1467799267622069,\n",
       " 'lam': 0.029286445646252372,\n",
       " 'max_iter': 100,\n",
       " 'rho1': 4.641588833612778,\n",
       " 'rho2': 1.0,\n",
       " 'tol': 0.001}"
      ]
     },
     "execution_count": 166,
     "metadata": {},
     "output_type": "execute_result"
    }
   ],
   "source": [
    "best_huberl1.get_params()"
   ]
  },
  {
   "cell_type": "code",
   "execution_count": 167,
   "metadata": {},
   "outputs": [
    {
     "data": {
      "text/plain": [
       "[<matplotlib.lines.Line2D at 0x138d0cad0>]"
      ]
     },
     "execution_count": 167,
     "metadata": {},
     "output_type": "execute_result"
    },
    {
     "data": {
      "image/png": "[encoded data removed]",
      "text/plain": [
       "<Figure size 432x288 with 1 Axes>"
      ]
     },
     "metadata": {
      "needs_background": "light"
     },
     "output_type": "display_data"
    }
   ],
   "source": [
    "plt.plot(best_huberl1.coef_)"
   ]
  },
  {
   "cell_type": "code",
   "execution_count": 168,
   "metadata": {},
   "outputs": [
    {
     "data": {
      "text/plain": [
       "[<matplotlib.lines.Line2D at 0x13881be50>]"
      ]
     },
     "execution_count": 168,
     "metadata": {},
     "output_type": "execute_result"
    },
    {
     "data": {
      "image/png": "[encoded data removed]",
      "text/plain": [
       "<Figure size 432x288 with 1 Axes>"
      ]
     },
     "metadata": {
      "needs_background": "light"
     },
     "output_type": "display_data"
    }
   ],
   "source": [
    "plt.plot(best_huberl1.predict(X_train),y_train,\"o\")"
   ]
  },
  {
   "cell_type": "code",
   "execution_count": 169,
   "metadata": {},
   "outputs": [
    {
     "data": {
      "text/plain": [
       "[<matplotlib.lines.Line2D at 0x13853a950>]"
      ]
     },
     "execution_count": 169,
     "metadata": {},
     "output_type": "execute_result"
    },
    {
     "data": {
      "image/png": "[encoded data removed]",
      "text/plain": [
       "<Figure size 432x288 with 1 Axes>"
      ]
     },
     "metadata": {
      "needs_background": "light"
     },
     "output_type": "display_data"
    }
   ],
   "source": [
    "plt.plot(best_huberl1.coef_,best_ladl1.coef_,\"o\")"
   ]
  },
  {
   "cell_type": "code",
   "execution_count": 172,
   "metadata": {},
   "outputs": [],
   "source": [
    "y_pred_huberl1 = np.exp(best_huberl1.predict(X_test)+y_mean)"
   ]
  },
  {
   "cell_type": "code",
   "execution_count": 173,
   "metadata": {},
   "outputs": [],
   "source": [
    "# データの整形\n",
    "submitPre = pd.DataFrame({\n",
    "                        'Id':list(test.index),\n",
    "                        'SalePrice':y_pred_huberl1\n",
    "                        })\n",
    "# CSV出力\n",
    "submitPre.to_csv(\"sub_huberl1.csv\",index=False)"
   ]
  },
  {
   "cell_type": "code",
   "execution_count": null,
   "metadata": {},
   "outputs": [],
   "source": []
  },
  {
   "cell_type": "code",
   "execution_count": null,
   "metadata": {},
   "outputs": [],
   "source": []
  }
 ],
 "metadata": {
  "kernelspec": {
   "display_name": "Python 3",
   "language": "python",
   "name": "python3"
  },
  "language_info": {
   "codemirror_mode": {
    "name": "ipython",
    "version": 3
   },
   "file_extension": ".py",
   "mimetype": "text/x-python",
   "name": "python",
   "nbconvert_exporter": "python",
   "pygments_lexer": "ipython3",
   "version": "3.7.7"
  }
 },
 "nbformat": 4,
 "nbformat_minor": 4
}
